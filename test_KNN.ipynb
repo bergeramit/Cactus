{
  "nbformat": 4,
  "nbformat_minor": 0,
  "metadata": {
    "colab": {
      "name": "test_KNN.ipynb",
      "provenance": [],
      "collapsed_sections": [],
      "toc_visible": true,
      "mount_file_id": "1NDyeaWC0lqdhtvuiTbbxJYqK7CBioPz6",
      "authorship_tag": "ABX9TyPSuJdCeOq3rxbjol50PCPu",
      "include_colab_link": true
    },
    "kernelspec": {
      "display_name": "Python 3",
      "name": "python3"
    }
  },
  "cells": [
    {
      "cell_type": "markdown",
      "metadata": {
        "id": "view-in-github",
        "colab_type": "text"
      },
      "source": [
        "<a href=\"https://colab.research.google.com/github/bergeramit/Cactus/blob/master/test_KNN.ipynb\" target=\"_parent\"><img src=\"https://colab.research.google.com/assets/colab-badge.svg\" alt=\"Open In Colab\"/></a>"
      ]
    },
    {
      "cell_type": "markdown",
      "metadata": {
        "id": "flpYRlrRxyQX"
      },
      "source": [
        "#Settings"
      ]
    },
    {
      "cell_type": "code",
      "metadata": {
        "colab": {
          "base_uri": "https://localhost:8080/"
        },
        "id": "_G8qsFKCYjsp",
        "outputId": "9479c540-4264-460d-9ec8-a48a905b8ccb"
      },
      "source": [
        "!pip install eta"
      ],
      "execution_count": 14,
      "outputs": [
        {
          "output_type": "stream",
          "text": [
            "Collecting eta\n",
            "  Downloading https://files.pythonhosted.org/packages/56/f4/3def7582d454d511a0b48e5eabdfd1319ccb6b5fafc810fea7dee4ca6c4d/eta-0.9.7.tar.gz\n",
            "Building wheels for collected packages: eta\n",
            "  Building wheel for eta (setup.py) ... \u001b[?25l\u001b[?25hdone\n",
            "  Created wheel for eta: filename=eta-0.9.7-cp37-none-any.whl size=3279 sha256=15879c040d235c646c7d3d3be9791cf291edb7daa9bfdcbd4ebe964d68a87196\n",
            "  Stored in directory: /root/.cache/pip/wheels/8f/3d/be/b39717b4cd2bb43eb1914b692e663cbad000b32358878f13ba\n",
            "Successfully built eta\n",
            "Installing collected packages: eta\n",
            "Successfully installed eta-0.9.7\n"
          ],
          "name": "stdout"
        }
      ]
    },
    {
      "cell_type": "code",
      "metadata": {
        "id": "jutQBficrR-F"
      },
      "source": [
        "import os\n",
        "import csv\n",
        "from pathlib import Path\n",
        "\n",
        "import cv2\n",
        "import math\n",
        "\n",
        "import matplotlib.pyplot as plt\n",
        "import seaborn as sns\n",
        "import numpy as np\n",
        "from scipy import ndimage as ndi\n",
        "from sklearn import preprocessing \n",
        "from sklearn.neighbors import KNeighborsClassifier\n",
        "from sklearn.manifold import MDS\n",
        "from mpl_toolkits.mplot3d import Axes3D\n",
        "\n",
        "import networkx as nx\n",
        "\n",
        "import pandas as pd\n",
        "import scipy.misc\n",
        "import glob\n",
        "import scipy.misc\n",
        "\n",
        "import eta\n"
      ],
      "execution_count": 15,
      "outputs": []
    },
    {
      "cell_type": "code",
      "metadata": {
        "id": "1UN1urakySS0"
      },
      "source": [
        "GIST_FEATURES_DIR_PATH = \"/content/drive/MyDrive/CD_Project_drive/GIST_features\"\n",
        "LABELS_PATH = \"/content/drive/MyDrive/CD_Project_drive/trainLabels.csv\"\n",
        "LABELS = ['Ramnit', 'Lollipop', 'Kelihos_ver3', 'Vundo', 'Simda', 'Tracur', 'Kelihos_ver1', 'Obfuscator.ACY', 'Gatak']\n",
        "TRAIN_SET_PORTION = 0.90"
      ],
      "execution_count": 2,
      "outputs": []
    },
    {
      "cell_type": "markdown",
      "metadata": {
        "id": "TED8XAiS85Yh"
      },
      "source": [
        "# Gist Descriptor"
      ]
    },
    {
      "cell_type": "code",
      "metadata": {
        "id": "NVdqpK5787_C"
      },
      "source": [
        "def compute_feats(image, kernels):\n",
        "    feats = np.zeros((len(kernels), 2), dtype=np.double)\n",
        "    for k, kernel in enumerate(kernels):\n",
        "        filtered = ndi.convolve(image, kernel, mode='wrap')\n",
        "        feats[k, 0] = filtered.mean()\n",
        "        feats[k, 1] = filtered.var()\n",
        "    return feats\n",
        "\n",
        "def match(feats, ref_feats):\n",
        "    min_error = np.inf\n",
        "    min_i = None\n",
        "    for i in range(ref_feats.shape[0]):\n",
        "        error = np.sum((feats - ref_feats[i, :])**2)\n",
        "        if error < min_error:\n",
        "            min_error = error\n",
        "            min_i = i\n",
        "    return min_i\n",
        "\n",
        "def plot_single(gs):\n",
        "    (kernel, powers) = gs\n",
        "    a = (kernel * 255).astype(np.uint8)\n",
        "    plt.figure()\n",
        "    plt.imshow(a, 'gray')\n",
        "    \n",
        "def power_single(gs):\n",
        "    (kernel, powers) = gs\n",
        "    return powers*255\n",
        "\n",
        "def implot(im, gray=False):\n",
        "    cv_rgb = cv2.cvtColor(im.astype(np.uint8), cv2.COLOR_BGR2RGB)\n",
        "    plt.imshow(cv_rgb)\n",
        "    \n",
        "def np2to3(im):\n",
        "    # convert 2d to 3d naively\n",
        "    new_im = np.zeros((im.shape[0], im.shape[1], 3))\n",
        "    r, c = im.shape\n",
        "    for x in range(r):\n",
        "        for y in range(c):\n",
        "            new_im[x, y, :] = im[x,y]\n",
        "    return new_im\n",
        "\n",
        "def power(image, kernel):\n",
        "    # Normalize images for better comparison.\n",
        "    image = (image - image.mean()) / image.std()\n",
        "    return np.sqrt(ndi.convolve(image, np.real(kernel), mode='wrap')**2 +\n",
        "                   ndi.convolve(image, np.imag(kernel), mode='wrap')**2)\n",
        "\n",
        "def compute_avg(img):\n",
        "    r,c = img.shape\n",
        "\n",
        "    # chunks_row = np.split(np.array(range(r)), 4)\n",
        "    # chunks_col = np.split(np.array(range(c)), 4)\n",
        "    chunks_row = np.array_split(np.array(range(r)), 4)\n",
        "    chunks_col = np.array_split(np.array(range(c)), 4)\n",
        "\n",
        "    grid_images = []\n",
        "\n",
        "    for row in chunks_row:\n",
        "        for col in chunks_col:\n",
        "            grid_images.append(np.mean(img[np.min(row):np.max(row), np.min(col):np.max(col)]))\n",
        "    return np.array(grid_images).reshape((4,4))\n",
        "\n",
        "def compute_gist_descriptor(img_loc):\n",
        "    # build average feature map:\n",
        "\n",
        "    # shrink makes the image smaller...\n",
        "    images = cv2.imread(img_loc, cv2.COLOR_GRAY2BGR) \n",
        "    images = images/255.0\n",
        "    \n",
        "    # Plot a selection of the filter bank kernels and their responses.\n",
        "    results = []\n",
        "    kernel_params = []    \n",
        "    \n",
        "    for theta in (0, 1, 2, 3, 4, 5, 6, 7):\n",
        "        theta = theta / 8. * np.pi\n",
        "        for frequency in (0.1, 0.2, 0.3, 0.4):\n",
        "            kernel = gabor_kernel(frequency, theta=theta)\n",
        "            params = 'theta={}, frequency={:.2f}'.format(theta * 180 / np.pi, frequency)\n",
        "            kernel_params.append(params)\n",
        "            results.append((kernel, power(images, kernel)))\n",
        "    \n",
        "    print(\"User these Filters:\")\n",
        "    print(kernel_params)\n",
        "    print()\n",
        "\n",
        "    # 16 grids * 32 kernels = 512\n",
        "    return np.array([compute_avg(power_single(img)) for img in results]).reshape(512,)\n",
        "\n",
        "def load_feature_vector(feature_path):\n",
        "    array = np.loadtxt(feature_path, delimiter=',')\n",
        "    return array"
      ],
      "execution_count": 3,
      "outputs": []
    },
    {
      "cell_type": "markdown",
      "metadata": {
        "id": "OGfIMvZd8zJo"
      },
      "source": [
        "# KNN"
      ]
    },
    {
      "cell_type": "code",
      "metadata": {
        "id": "RlyvxzJw0l5w"
      },
      "source": [
        "def KNN(X, Y, y_test):\n",
        "    model = KNeighborsClassifier(n_neighbors=3, metric=calculate_gist_distance)\n",
        "    model.fit(X, Y)\n",
        "    preds = model.predict(y_test)\n",
        "    return preds\n",
        "\n",
        "\n",
        "# get the closest image to the tram\n",
        "def ssd(imageA, imageB):\n",
        "    ssd = np.sum(np.square((imageA.astype(\"float\") - imageB.astype(\"float\"))))     \n",
        "    return ssd\n",
        "\n",
        "\n",
        "def calculate_gist_distance(current_feature_vector, other_feature_vector):\n",
        "    return ssd(current_feature_vector, other_feature_vector)\n",
        "\n",
        "\n",
        "def implot(im, gray=False):\n",
        "    cv_rgb = cv2.cvtColor(im.astype(np.uint8), cv2.COLOR_BGR2RGB)\n",
        "    plt.imshow(cv_rgb)\n",
        "    plt.show()\n",
        "\n",
        "def get_classification(labels_csv):\n",
        "    Y = pd.read_csv(labels_csv)\n",
        "    filenames = Y['Id'].tolist()\n",
        "    classes = Y['Class'].tolist()\n",
        "\n",
        "    return dict(zip(filenames, classes))\n",
        "\n",
        "def prepare_data(classification, gist_feature_dir):\n",
        "      X, Y = [], []\n",
        "      names = []\n",
        "      progress = eta.ETA(len(os.listdir(gist_feature_dir)))\n",
        "      for file_name in os.listdir(gist_feature_dir):\n",
        "          full_path = os.path.join(gist_feature_dir, file_name)\n",
        "          if Path(file_name).stem not in classification:\n",
        "              print(\"Missing: {}\".format(Path(file_name).stem))\n",
        "              print(\"Deleteing...\")\n",
        "              os.remove(full_path)\n",
        "              continue\n",
        "\n",
        "          progress.print_status()\n",
        "          fv = load_feature_vector(full_path)\n",
        "          fv = np.nan_to_num(fv)\n",
        "          X.append(fv)\n",
        "          Y.append(classification[Path(file_name).stem])\n",
        "          names.append(Path(file_name).stem)\n",
        "\n",
        "      progress.done()\n",
        "      return X, Y, names\n",
        "\n"
      ],
      "execution_count": 19,
      "outputs": []
    },
    {
      "cell_type": "code",
      "metadata": {
        "id": "sLSNMkuS6E60"
      },
      "source": [
        "def load_dataset():\n",
        "    classification = get_classification(LABELS_PATH)\n",
        "    X, Y, names = prepare_data(classification, GIST_FEATURES_DIR_PATH)\n",
        "    train_set_size = int(np.floor(len(X) * TRAIN_SET_PORTION))\n",
        "    return X[:train_set_size], Y[:train_set_size], X[train_set_size:], Y[train_set_size:], names"
      ],
      "execution_count": 20,
      "outputs": []
    },
    {
      "cell_type": "markdown",
      "metadata": {
        "id": "J01x4uLQ9lFb"
      },
      "source": [
        "#KNN Model"
      ]
    },
    {
      "cell_type": "code",
      "metadata": {
        "colab": {
          "base_uri": "https://localhost:8080/",
          "height": 164
        },
        "id": "MywYgNuIX85g",
        "outputId": "acb67e3b-1fa0-4c39-ea07-520cedbf4b7c"
      },
      "source": [
        "#os.remove(\"/content/drive/MyDrive/CD_Project_drive/GIST_features/iH0WPl3gvIBwexmry2ES.gist\")"
      ],
      "execution_count": 18,
      "outputs": [
        {
          "output_type": "error",
          "ename": "FileNotFoundError",
          "evalue": "ignored",
          "traceback": [
            "\u001b[0;31m---------------------------------------------------------------------------\u001b[0m",
            "\u001b[0;31mFileNotFoundError\u001b[0m                         Traceback (most recent call last)",
            "\u001b[0;32m<ipython-input-18-bd34978c6f42>\u001b[0m in \u001b[0;36m<module>\u001b[0;34m()\u001b[0m\n\u001b[0;32m----> 1\u001b[0;31m \u001b[0mos\u001b[0m\u001b[0;34m.\u001b[0m\u001b[0mremove\u001b[0m\u001b[0;34m(\u001b[0m\u001b[0;34m\"/content/drive/MyDrive/CD_Project_drive/GIST_features/iH0WPl3gvIBwexmry2ES.gist\"\u001b[0m\u001b[0;34m)\u001b[0m\u001b[0;34m\u001b[0m\u001b[0;34m\u001b[0m\u001b[0m\n\u001b[0m",
            "\u001b[0;31mFileNotFoundError\u001b[0m: [Errno 2] No such file or directory: '/content/drive/MyDrive/CD_Project_drive/GIST_features/iH0WPl3gvIBwexmry2ES.gist'"
          ]
        }
      ]
    },
    {
      "cell_type": "code",
      "metadata": {
        "colab": {
          "base_uri": "https://localhost:8080/"
        },
        "id": "MPK1obXr9Rav",
        "outputId": "99496307-ed1a-43c0-e9d8-21ac553b1aec"
      },
      "source": [
        "# Overview\n",
        "\n",
        "X_train, Y_train, X_test, Y_test, names = load_dataset()  \n",
        "print(\"X_train number of samples = {}\".format(len(X_train)))\n",
        "print(\"X_test number of samples = {}\".format(len(X_test)))"
      ],
      "execution_count": 21,
      "outputs": [
        {
          "output_type": "stream",
          "text": [
            "Missing: dCpHJ194WM8ecNxTKGur (1)\n",
            "Deleteing...\n",
            "Missing: 0IyaidUKRqnt2PDfOzHT (1)\n",
            "Deleteing...\n",
            "Missing: 03nJaQV6K2ObICUmyWoR (1)\n",
            "Deleteing...\n",
            "Missing: IDAJBOwSRGzNd6icULMu (1)\n",
            "Deleteing...\n",
            "Missing: CezT83xEW279v4DBZUjN (1)\n",
            "Deleteing...\n",
            "Missing: gNtLHRhP5depSUoqJ9mk (1)\n",
            "Deleteing...\n",
            "Missing: H3TB1UG6mPKEJFVpols0 (1)\n",
            "Deleteing...\n",
            "Missing: hgbBPkqK8SOI7v0FDYtw (1)\n",
            "Deleteing...\n",
            "Missing: 1MnbpHvF3KGLS49yARaJ (1)\n",
            "Deleteing...\n",
            "Missing: hGrRVejLFzNtXcBW6s2p (1)\n",
            "Deleteing...\n",
            "Missing: EUwpN3rOGLiAqRCuPVIf (1)\n",
            "Deleteing...\n",
            "Missing: BxRn5YjcIH1qCEy67NP9 (1)\n",
            "Deleteing...\n",
            "Missing: EZ5uGxW3X8DvKMTcJ6Id (1)\n",
            "Deleteing...\n",
            "Missing: buBXk0VawKfpYLytPxFj (1)\n",
            "Deleteing...\n",
            "Missing: Aakq59juHDKNfbUXR72Y (1)\n",
            "Deleteing...\n",
            "Missing: FBWcEoe1pMRfmVwN0uTZ (1)\n",
            "Deleteing...\n",
            "Missing: BYRrHLwm9QoeXTlzpNVI (1)\n",
            "Deleteing...\n",
            "Missing: 5UMRAY6vFx0adLKH1skc (1)\n",
            "Deleteing...\n",
            "Missing: 5lxG2JZF8mhpBRTkWaYC (1)\n",
            "Deleteing...\n",
            "Missing: dhsfOF5RIgnmZGpLAWNS (1)\n",
            "Deleteing...\n",
            "Missing: 6hK54UzImqWdHyiN3veV (1)\n",
            "Deleteing...\n",
            "Missing: iYRmKWHhed3jLEnZ1tTG (1)\n",
            "Deleteing...\n",
            "Missing: g3Eqjr9Ze6c1vSQfUtxk (1)\n",
            "Deleteing...\n",
            "Missing: G1t0leJo7ju3MPWwyLNv (1)\n",
            "Deleteing...\n",
            "Missing: 7c06VofO9jp8dkSIunga (1)\n",
            "Deleteing...\n",
            "Missing: J2cN9YjVQAUdfMzGRnBw (1)\n",
            "Deleteing...\n",
            "Missing: JCzVMIhYuK13LZgo6Nct (1)\n",
            "Deleteing...\n",
            "Missing: 2PESUlOCzXpa46su0DeY (1)\n",
            "Deleteing...\n",
            "Missing: kAQCMqUNsZDoribmvw84 (1)\n",
            "Deleteing...\n",
            "Missing: kMdOa9cZ3jw8GUFu52Tq (1)\n",
            "Deleteing...\n",
            "X_train number of samples = 9780\n",
            "X_test number of samples = 1087\n"
          ],
          "name": "stdout"
        }
      ]
    },
    {
      "cell_type": "code",
      "metadata": {
        "colab": {
          "base_uri": "https://localhost:8080/"
        },
        "id": "NFIPM80j9jPH",
        "outputId": "a284703a-50f4-4d7b-e3ac-800b0ecbf761"
      },
      "source": [
        "model = KNeighborsClassifier(n_neighbors=3, metric=calculate_gist_distance)\n",
        "model.fit(X_train, Y_train)\n",
        "preds = model.predict(X_test)\n",
        "acc = model.score(X_test, Y_test)\n",
        "print(\"Test Accuracy = {}%\".format(acc * 100))"
      ],
      "execution_count": 22,
      "outputs": [
        {
          "output_type": "stream",
          "text": [
            "Test Accuracy = 96.8721251149954%\n"
          ],
          "name": "stdout"
        }
      ]
    },
    {
      "cell_type": "code",
      "metadata": {
        "colab": {
          "base_uri": "https://localhost:8080/",
          "height": 265
        },
        "id": "1YbcmY6YJreC",
        "outputId": "27d42810-5218-4129-8681-d3d0be2ac109"
      },
      "source": [
        "fig = plt.figure()\n",
        "ax = fig.add_subplot(111, projection='3d')\n",
        "embedding = MDS(n_components=3)\n",
        "X_train_transformed = embedding.fit_transform(X_train)\n",
        "ax.scatter(X_train_transformed[:, 0], X_train_transformed[:, 1], X_train_transformed[:, 2], c=Y_train)"
      ],
      "execution_count": 23,
      "outputs": [
        {
          "output_type": "execute_result",
          "data": {
            "text/plain": [
              "<mpl_toolkits.mplot3d.art3d.Path3DCollection at 0x7f47167cac90>"
            ]
          },
          "metadata": {
            "tags": []
          },
          "execution_count": 23
        },
        {
          "output_type": "display_data",
          "data": {
            "image/png": "[encoded data removed]",
            "text/plain": [
              "<Figure size 432x288 with 1 Axes>"
            ]
          },
          "metadata": {
            "tags": [],
            "needs_background": "light"
          }
        }
      ]
    }
  ]
}